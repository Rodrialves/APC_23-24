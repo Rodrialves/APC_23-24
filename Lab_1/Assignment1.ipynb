{
  "cells": [
    {
      "cell_type": "markdown",
      "id": "42d85123-e033-432b-9a55-258554ed78b4",
      "metadata": {
        "id": "42d85123-e033-432b-9a55-258554ed78b4"
      },
      "source": [
        "# Assignment 1\n",
        "\n",
        "In this assignment, you will encounter both pen-and-paper exercises and coding tasks to be solved using Python 3 and the NumPy library. To complete each exercise, utilize the designated cell within this Jupyter notebook.\n",
        "\n",
        "For the pen-and-paper exercises, you have the option to submit either a typeset solution or a good-quality digitalized version of your handwritten solution.\n",
        "\n",
        "As for the Python exercises:\n",
        "\n",
        "- Refrain from altering the provided code; simply fill in the missing portions as indicated.\n",
        "- Do not use any additional libraries beyond those already included in the code.\n",
        "- Make sure that the output of all code cells is visible in your submitted notebook. The evaluator will NOT execute your code before grading your submission.\n",
        "   \n",
        "Please identify the authors of this assignment in the cell below."
      ]
    },
    {
      "cell_type": "markdown",
      "id": "53b1811e-c454-47ce-bd78-5fd65e8da0e2",
      "metadata": {
        "id": "53b1811e-c454-47ce-bd78-5fd65e8da0e2"
      },
      "source": [
        "### Author 1: , UP number\n",
        "### Author 2: Name, UP number\n",
        "### Author 3: Name, UP number"
      ]
    },
    {
      "cell_type": "markdown",
      "id": "ec46389d",
      "metadata": {
        "id": "ec46389d"
      },
      "source": [
        "## 1. Probability"
      ]
    },
    {
      "cell_type": "markdown",
      "id": "4d4a9601-9583-4b3b-8c69-03ed63cb4e6d",
      "metadata": {
        "id": "4d4a9601-9583-4b3b-8c69-03ed63cb4e6d"
      },
      "source": [
        "Suppose you are participating in a quiz competition where, for each question, you are provided with four answer choices, with only one being correct. At a certain point, the quiz host asks you a question for which you have no idea what the correct answer is. The host offers you a bonus that enables you to eliminate one incorrect answer from among two options of your choice. Let us label the four answers as $a$, $b$, $c$, and $d$."
      ]
    },
    {
      "cell_type": "markdown",
      "id": "e4fd598c-a2ef-4342-b2a8-439c348fa621",
      "metadata": {
        "id": "e4fd598c-a2ef-4342-b2a8-439c348fa621"
      },
      "source": [
        "### 1.1. Pen-and-paper questions"
      ]
    },
    {
      "cell_type": "markdown",
      "id": "a19566f9-fcae-447e-8d96-532fe38e5fe9",
      "metadata": {
        "id": "a19566f9-fcae-447e-8d96-532fe38e5fe9"
      },
      "source": [
        "a) What is the probability that you get the correct answer if you answer at random before using the bonus?"
      ]
    },
    {
      "cell_type": "markdown",
      "metadata": {
        "id": "VtrKJhnIwh_U"
      },
      "source": [
        "**YOUR ANSWER HERE**"
      ],
      "id": "VtrKJhnIwh_U"
    },
    {
      "cell_type": "markdown",
      "id": "ad953f96",
      "metadata": {
        "id": "ad953f96"
      },
      "source": [
        "b) You requested the quiz host to use the bonus and eliminate one incorrect answer from options $a$ and $b$. You then choose the option $a$ or $b$ that remains after the bonus. What is the probability of selecting the correct answer in this scenario? Show all the calculations involved."
      ]
    },
    {
      "cell_type": "markdown",
      "id": "fb331a67-8b41-4552-937a-e3088b9c9f37",
      "metadata": {
        "id": "fb331a67-8b41-4552-937a-e3088b9c9f37"
      },
      "source": [
        "**YOUR ANSWER HERE**"
      ]
    },
    {
      "cell_type": "markdown",
      "id": "c4fa1fc8",
      "metadata": {
        "id": "c4fa1fc8"
      },
      "source": [
        "### 1.2. Computational simulation"
      ]
    },
    {
      "cell_type": "markdown",
      "id": "cb819b9c-204c-4ed1-93b8-247dd0c3c0e0",
      "metadata": {
        "id": "cb819b9c-204c-4ed1-93b8-247dd0c3c0e0"
      },
      "source": [
        "Perform a computational simulation of the scenario described in 1.b) and estimate the desired probability by completing the code below."
      ]
    },
    {
      "cell_type": "code",
      "execution_count": null,
      "id": "219c3029-f098-42d6-a69f-e88b3f75bf54",
      "metadata": {
        "id": "219c3029-f098-42d6-a69f-e88b3f75bf54"
      },
      "outputs": [],
      "source": [
        "import random\n",
        "\n",
        "NUM_EPISODES = 10000\n",
        "\n",
        "num_wins = 0\n",
        "for _ in range(NUM_EPISODES):\n",
        "    correct_answer = random.choice([\"a\", \"b\", \"c\", \"d\"])\n",
        "\n",
        "    # YOUR CODE HERE #\n",
        "\n",
        "\n",
        "prob = num_wins / NUM_EPISODES\n",
        "print(f\"Estimated probability: {prob:.3f}\")"
      ]
    },
    {
      "cell_type": "markdown",
      "id": "77ef0a4b-4dc2-4521-96ec-f1a489dcac67",
      "metadata": {
        "id": "77ef0a4b-4dc2-4521-96ec-f1a489dcac67"
      },
      "source": [
        "## 2. Linear regression"
      ]
    },
    {
      "cell_type": "markdown",
      "id": "7eba9c45-dba4-4717-8f61-9b7cce1ca4cc",
      "metadata": {
        "id": "7eba9c45-dba4-4717-8f61-9b7cce1ca4cc"
      },
      "source": [
        "Consider the model $f(x) = \\theta_0 + \\theta_1 x + \\theta_2 x^2 + \\theta_3 \\sin(2\\pi x)$ and a dataset $\\{(x_i, y_i)\\}_{i=1}^n$."
      ]
    },
    {
      "cell_type": "markdown",
      "id": "0acd9f3b-2099-4229-9be2-3674a7371d81",
      "metadata": {
        "id": "0acd9f3b-2099-4229-9be2-3674a7371d81"
      },
      "source": [
        "a) The optimal parameters for the linear regression problem can be obtained by solving\n",
        "$$ \\min_{\\boldsymbol{\\theta}} ||\\boldsymbol{y} - \\boldsymbol{X}\\boldsymbol{\\theta}||_2^2 $$\n",
        "for suitably defined matrices/vectors $\\boldsymbol{\\theta}$, $\\boldsymbol{X}$, and $\\boldsymbol{y}$. Provide explicit definitions for these matrices/vectors."
      ]
    },
    {
      "cell_type": "markdown",
      "metadata": {
        "id": "SpZ5U3slwh_Z"
      },
      "source": [
        "**YOUR ANSWER HERE**"
      ],
      "id": "SpZ5U3slwh_Z"
    },
    {
      "cell_type": "markdown",
      "id": "7412e3f8",
      "metadata": {
        "id": "7412e3f8"
      },
      "source": [
        "b) Find the solution to this problem by completing the code below."
      ]
    },
    {
      "cell_type": "code",
      "execution_count": null,
      "id": "015eaef3-54db-4f27-95d6-0afc9373f97c",
      "metadata": {
        "id": "015eaef3-54db-4f27-95d6-0afc9373f97c"
      },
      "outputs": [],
      "source": [
        "import numpy as np\n",
        "\n",
        "arr = np.loadtxt(\"dataset_train.csv\", delimiter=\",\", dtype=float)\n",
        "inputs, targets = arr[:, 0], arr[:, 1]\n",
        "theta = np.zeros(4)  # just to prevent the code from throwing an error before it's fully implemented\n",
        "\n",
        "# YOUR CODE HERE\n",
        "\n",
        "\n",
        "print(\"theta =\", theta)"
      ]
    },
    {
      "cell_type": "markdown",
      "id": "105dd49c-f7bf-4c91-85df-44dbf6f17318",
      "metadata": {
        "id": "105dd49c-f7bf-4c91-85df-44dbf6f17318"
      },
      "source": [
        "Let's plot the learned model together with the training data."
      ]
    },
    {
      "cell_type": "code",
      "execution_count": null,
      "id": "619e4fc4-4746-4ddd-9a16-3bc3068742d5",
      "metadata": {
        "id": "619e4fc4-4746-4ddd-9a16-3bc3068742d5"
      },
      "outputs": [],
      "source": [
        "import seaborn as sns\n",
        "import matplotlib.pyplot as plt\n",
        "\n",
        "# create a scatterplot for the data\n",
        "sns.scatterplot(x=inputs, y=targets, color=\"blue\", label='Data')\n",
        "\n",
        "# compute the predictions of the model\n",
        "x = np.linspace(0, 1, 1000)\n",
        "y_pred = theta[0] + theta[1] * x + theta[2] * x**2 + theta[3] * np.sin(2*np.pi * x)\n",
        "\n",
        "# create a lineplot for the predicted model\n",
        "sns.lineplot(x=x, y=y_pred, color=\"orange\", label='Prediction')\n",
        "\n",
        "# label your axes and add a legend\n",
        "plt.xlabel('x')\n",
        "plt.ylabel('y')\n",
        "plt.legend()\n",
        "\n",
        "# show the plot\n",
        "plt.show()"
      ]
    },
    {
      "cell_type": "markdown",
      "id": "1274c527-cf9e-47bc-8d88-a892a7c17f66",
      "metadata": {
        "id": "1274c527-cf9e-47bc-8d88-a892a7c17f66"
      },
      "source": [
        "c) Consider the Ridge regression problem where the parameter $\\theta_0$ is not regularized. Derive the closed-form solution to this problem analytically."
      ]
    },
    {
      "cell_type": "markdown",
      "id": "312853af-2f9c-4a88-9c6b-39836c4d7b15",
      "metadata": {
        "id": "312853af-2f9c-4a88-9c6b-39836c4d7b15"
      },
      "source": [
        "**YOUR ANSWER HERE**"
      ]
    },
    {
      "cell_type": "markdown",
      "id": "ecc898ed-af87-4a3d-b32b-cffd1d252e20",
      "metadata": {
        "id": "ecc898ed-af87-4a3d-b32b-cffd1d252e20"
      },
      "source": [
        "d) Find the solution to the Ridge regression problem as defined in the previous exercise by completing the code below. The variable `reg` in the code corresponds to the regularization weight $\\lambda$."
      ]
    },
    {
      "cell_type": "code",
      "execution_count": null,
      "id": "e3a87dbd-2b17-4c6c-9bca-af0a2f2403ae",
      "metadata": {
        "id": "e3a87dbd-2b17-4c6c-9bca-af0a2f2403ae"
      },
      "outputs": [],
      "source": [
        "reg = 10.0  # regularization weight (DO NOT CHANGE)\n",
        "arr = np.loadtxt(\"dataset_train.csv\", delimiter=\",\", dtype=float)\n",
        "inputs, targets = arr[:, 0], arr[:, 1]\n",
        "theta_ridge = np.zeros(4)  # just to prevent the code from throwing an error before it's fully implemented\n",
        "\n",
        "# YOUR CODE HERE\n",
        "\n",
        "\n",
        "print(\"theta_ridge =\", theta_ridge)"
      ]
    },
    {
      "cell_type": "markdown",
      "id": "44569427-1f0c-4f9f-b5a7-68cb87185295",
      "metadata": {
        "id": "44569427-1f0c-4f9f-b5a7-68cb87185295"
      },
      "source": [
        "Let's plot the two models together with the training data."
      ]
    },
    {
      "cell_type": "code",
      "execution_count": null,
      "id": "af453865-ec48-45a9-8a7f-3f6d09b588e6",
      "metadata": {
        "id": "af453865-ec48-45a9-8a7f-3f6d09b588e6"
      },
      "outputs": [],
      "source": [
        "# create a scatterplot for the data\n",
        "sns.scatterplot(x=inputs, y=targets, color=\"blue\", label='Data')\n",
        "\n",
        "# compute the predictions of the two models\n",
        "x = np.linspace(0, 1, 1000)\n",
        "y_pred = theta[0] + theta[1] * x + theta[2] * x**2 + theta[3] * np.sin(2*np.pi * x)\n",
        "y_pred_ridge = theta_ridge[0] + theta_ridge[1] * x + theta_ridge[2] * x**2 + theta_ridge[3] * np.sin(2*np.pi * x)\n",
        "\n",
        "# create a lineplot for each of the predicted models\n",
        "sns.lineplot(x=x, y=y_pred, color=\"orange\", label='Prediction (no reg.)')\n",
        "sns.lineplot(x=x, y=y_pred_ridge, color=\"green\", label='Prediction (Ridge)')\n",
        "\n",
        "# label your axes and add a legend\n",
        "plt.xlabel('x')\n",
        "plt.ylabel('y')\n",
        "plt.legend()\n",
        "\n",
        "# show the plot\n",
        "plt.show()"
      ]
    },
    {
      "cell_type": "markdown",
      "id": "b1f23ada-a1a7-4d11-be0a-2b9c8f75c000",
      "metadata": {
        "id": "b1f23ada-a1a7-4d11-be0a-2b9c8f75c000"
      },
      "source": [
        "e) Compute the mean-squared errors (MSE) of the two models in the training set and in a separate test set. You should avoid utilizing for-loops. Use NumPy vectorized operations instead."
      ]
    },
    {
      "cell_type": "code",
      "execution_count": null,
      "id": "17f9cb41-5df2-4ed5-806c-358f28c763d0",
      "metadata": {
        "id": "17f9cb41-5df2-4ed5-806c-358f28c763d0"
      },
      "outputs": [],
      "source": [
        "# load the training data\n",
        "arr = np.loadtxt(\"dataset_train.csv\", delimiter=\",\", dtype=float)\n",
        "inputs, targets = arr[:, 0], arr[:, 1]\n",
        "\n",
        "# load the test data\n",
        "arr = np.loadtxt(\"dataset_test.csv\", delimiter=\",\", dtype=float)\n",
        "inputs_test, targets_test = arr[:, 0], arr[:, 1]\n",
        "\n",
        "# just to prevent the code from throwing an error before it's fully implemented\n",
        "mse_train, mse_train_ridge = 0, 0\n",
        "mse_test, mse_test_ridge = 0, 0\n",
        "\n",
        "# YOUR CODE HERE\n",
        "\n",
        "\n",
        "print(\"MSE in the training data:\")\n",
        "print(f\"  Linear regression (no reg.): {mse_train:.5f}\")\n",
        "print(f\"  Ridge regression (lambda = {reg}): {mse_train_ridge:.5f}\\n\")\n",
        "\n",
        "print(\"MSE in the test data:\")\n",
        "print(f\"  Linear regression (no reg.): {mse_test:.5f}\")\n",
        "print(f\"  Ridge regression (lambda = {reg}): {mse_test_ridge:.5f}\\n\")"
      ]
    },
    {
      "cell_type": "markdown",
      "id": "e8c0e174-2d5b-4362-85c3-c9f73771fa5c",
      "metadata": {
        "id": "e8c0e174-2d5b-4362-85c3-c9f73771fa5c"
      },
      "source": [
        "f) Based on the errors obtained in the previous question, which of the two models would you prefer? Explain your answer."
      ]
    },
    {
      "cell_type": "markdown",
      "id": "b74174be-d6fe-46c4-80dc-0a97ec7ef87e",
      "metadata": {
        "id": "b74174be-d6fe-46c4-80dc-0a97ec7ef87e"
      },
      "source": [
        "**YOUR ANSWER HERE**"
      ]
    }
  ],
  "metadata": {
    "kernelspec": {
      "display_name": "Python 3 (ipykernel)",
      "language": "python",
      "name": "python3"
    },
    "language_info": {
      "codemirror_mode": {
        "name": "ipython",
        "version": 3
      },
      "file_extension": ".py",
      "mimetype": "text/x-python",
      "name": "python",
      "nbconvert_exporter": "python",
      "pygments_lexer": "ipython3",
      "version": "3.11.5"
    },
    "colab": {
      "provenance": []
    }
  },
  "nbformat": 4,
  "nbformat_minor": 5
}